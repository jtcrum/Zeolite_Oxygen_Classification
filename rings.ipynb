{
 "cells": [
  {
   "cell_type": "code",
   "execution_count": 1,
   "metadata": {
    "inputHidden": false,
    "outputHidden": false
   },
   "outputs": [],
   "source": [
    "import numpy as np\n",
    "import sys\n",
    "sys.setrecursionlimit(2000)"
   ]
  },
  {
   "cell_type": "code",
   "execution_count": 219,
   "metadata": {
    "inputHidden": false,
    "outputHidden": false
   },
   "outputs": [],
   "source": [
    "# This should do what the ZeroOut function in the ZeoliteCLassifierFour.m accomplishes\n",
    "\n",
    "\n",
    "\n",
    "# This should do what ZeoliteCLassifierFour.m accomplishes\n",
    "'''This is the function that is taking too many recursions. \n",
    "I belive that is because I transcribed this incorrectly from MATLAB'''\n",
    "def zeoc(Adjacency, Source, LengthOfCycle, CurrentPath=[0], UsedNodes=[0],  iteration=0, CurrentVertex=0):    \n",
    "    global CycleList\n",
    "    if iteration == 0:\n",
    "        CycleList= []\n",
    "        CurrentVertex = Source\n",
    "        UsedNodes = Source\n",
    "        CurrentPath = [source]     \n",
    "        iteration += 1\n",
    "        zeoc(Adjacency, Source, LengthOfCycle, CurrentPath, [UsedNodes], iteration, CurrentVertex)\n",
    "    else:\n",
    "        if iteration == 1:\n",
    "            UsedNodes[0] = []\n",
    "        iteration += 1\n",
    "        if len(CurrentPath) == LengthOfCycle and CurrentPath[-1] == Source:\n",
    "            CycleList.append(CurrentPath.copy())\n",
    "            Cycle = CurrentPath.copy()\n",
    "            Adjacency = zerout(CurrentPath, Adjacency)\n",
    "        elif len(CurrentPath) < LengthOfCycle:\n",
    "            CurrentNeighbors = [x for x in range(len(Adjacency[CurrentVertex,:])) if Adjacency[CurrentVertex,x] != 0 ]\n",
    "            for i in range(len(CurrentNeighbors)):\n",
    "                Used = False\n",
    "                CurrentVertex = CurrentNeighbors[i]\n",
    "                for j in range(len(UsedNodes)):\n",
    "                    if CurrentNeighbors[i] == UsedNodes[j]:\n",
    "                        Used = True\n",
    "                if not Used:\n",
    "                    CurrentPath.append(CurrentVertex)\n",
    "                    UsedNodes.append(CurrentVertex)\n",
    "                    NodeIndex = len(UsedNodes)-1\n",
    "                    Cycles, Adjacency = zeoc(Adjacency, Source, LengthOfCycle, CurrentPath, UsedNodes, iteration, CurrentVertex)\n",
    "                    UsedNodes[NodeIndex] = []\n",
    "                    del CurrentPath[-1]\n",
    "                    #CurrentPath[-1] = []\n",
    "            mmm = 0\n",
    "        elif len(CurrentPath) == LengthOfCycle and CurrentPath[-1] != Source:\n",
    "            UsedNodes[-1] = []\n",
    "            CurrentPath[-1] = []\n",
    "    Cycles = CycleList\n",
    "    return Cycles, Adjacency\n",
    "\n",
    "def zerout(CurrentPath, Adjacency):\n",
    "    NewAdjacency = Adjacency\n",
    "    temp = CurrentPath.copy()\n",
    "    del temp[0]\n",
    "    del temp[0]\n",
    "    del temp[-1]\n",
    "    del temp[-1]\n",
    "    GraphSize = max(Adjacency.shape)\n",
    "    Z = np.zeros([1, GraphSize])\n",
    "    Z1 = np.zeros([GraphSize,1])\n",
    "    for i in range(len(temp)):\n",
    "        NewAdjacency[temp[i],:] = 0\n",
    "        NewAdjacency[:,temp[i]] = 0\n",
    "    return NewAdjacency\n",
    "       "
   ]
  },
  {
   "cell_type": "code",
   "execution_count": 264,
   "metadata": {
    "inputHidden": false,
    "outputHidden": false
   },
   "outputs": [
    {
     "name": "stdout",
     "output_type": "stream",
     "text": [
      "[8, 8, 4]\n"
     ]
    }
   ],
   "source": [
    "m = np.loadtxt('largecell.csv', delimiter = ',')\n",
    "source = 45\n",
    "Class = []\n",
    "pr = [4,6,8]\n",
    "for i in pr:\n",
    "    ring,m = zeoc(m,source,i*2+1)\n",
    "    if ring:\n",
    "        for i in ring:\n",
    "            temp = i\n",
    "            Class.append(int((len(temp)-1)/2))\n",
    "Class.sort(reverse=True)\n",
    "print(Class)"
   ]
  },
  {
   "cell_type": "code",
   "execution_count": null,
   "metadata": {
    "inputHidden": false,
    "outputHidden": false
   },
   "outputs": [],
   "source": []
  },
  {
   "cell_type": "code",
   "execution_count": null,
   "metadata": {
    "inputHidden": false,
    "outputHidden": false
   },
   "outputs": [],
   "source": [
    "\n"
   ]
  },
  {
   "cell_type": "code",
   "execution_count": null,
   "metadata": {},
   "outputs": [],
   "source": []
  },
  {
   "cell_type": "code",
   "execution_count": null,
   "metadata": {},
   "outputs": [],
   "source": []
  },
  {
   "cell_type": "code",
   "execution_count": null,
   "metadata": {},
   "outputs": [],
   "source": []
  },
  {
   "cell_type": "code",
   "execution_count": null,
   "metadata": {},
   "outputs": [],
   "source": []
  }
 ],
 "metadata": {
  "kernel_info": {
   "name": "python3"
  },
  "kernelspec": {
   "display_name": "Python 3",
   "language": "python",
   "name": "python3"
  },
  "language_info": {
   "codemirror_mode": {
    "name": "ipython",
    "version": 3
   },
   "file_extension": ".py",
   "mimetype": "text/x-python",
   "name": "python",
   "nbconvert_exporter": "python",
   "pygments_lexer": "ipython3",
   "version": "3.7.3"
  },
  "nteract": {
   "version": "0.12.3"
  }
 },
 "nbformat": 4,
 "nbformat_minor": 4
}
