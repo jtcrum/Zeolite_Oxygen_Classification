{
 "cells": [
  {
   "cell_type": "code",
   "execution_count": 1,
   "metadata": {
    "inputHidden": false,
    "outputHidden": false
   },
   "outputs": [],
   "source": [
    "import numpy as np\n",
    "import sys"
   ]
  },
  {
   "cell_type": "code",
   "execution_count": 2,
   "metadata": {
    "inputHidden": false,
    "outputHidden": false
   },
   "outputs": [],
   "source": [
    "# This should do what the ZeroOut function in the ZeoliteCLassifierFour.m accomplishes\n",
    "\n",
    "\n",
    "\n",
    "# This should do what ZeoliteCLassifierFour.m accomplishes\n",
    "'''This is the function that is taking too many recursions. \n",
    "I belive that is because I transcribed this incorrectly from MATLAB'''\n",
    "def zeoc(Adjacency, Source, LengthOfCycle, CurrentPath=[0], UsedNodes=[0],  iteration=0, CurrentVertex=0):    \n",
    "    global CycleList\n",
    "    if iteration == 0:\n",
    "        CycleList= []\n",
    "        CurrentVertex = Source\n",
    "        UsedNodes = Source\n",
    "        CurrentPath = [source]     \n",
    "        iteration += 1\n",
    "        zeoc(Adjacency, Source, LengthOfCycle, CurrentPath, [UsedNodes], iteration, CurrentVertex)\n",
    "    else:\n",
    "        if iteration == 1:\n",
    "            UsedNodes[0] = []\n",
    "        iteration += 1\n",
    "        if len(CurrentPath) == LengthOfCycle and CurrentPath[-1] == Source:\n",
    "            CycleList.append(CurrentPath.copy())\n",
    "            Cycle = CurrentPath.copy()\n",
    "            Adjacency = zerout(CurrentPath, Adjacency)\n",
    "        elif len(CurrentPath) < LengthOfCycle:\n",
    "            CurrentNeighbors = [x for x in range(len(Adjacency[CurrentVertex,:])) if Adjacency[CurrentVertex,x] != 0 ]\n",
    "            for i in range(len(CurrentNeighbors)):\n",
    "                Used = False\n",
    "                CurrentVertex = CurrentNeighbors[i]\n",
    "                for j in range(len(UsedNodes)):\n",
    "                    if CurrentNeighbors[i] == UsedNodes[j]:\n",
    "                        Used = True\n",
    "                if not Used:\n",
    "                    CurrentPath.append(CurrentVertex)\n",
    "                    UsedNodes.append(CurrentVertex)\n",
    "                    NodeIndex = len(UsedNodes)-1\n",
    "                    Cycles, Adjacency = zeoc(Adjacency, Source, LengthOfCycle, CurrentPath, UsedNodes, iteration, CurrentVertex)\n",
    "                    UsedNodes[NodeIndex] = []\n",
    "                    del CurrentPath[-1]\n",
    "                    #CurrentPath[-1] = []\n",
    "            mmm = 0\n",
    "        elif len(CurrentPath) == LengthOfCycle and CurrentPath[-1] != Source:\n",
    "            UsedNodes[-1] = []\n",
    "            CurrentPath[-1] = []\n",
    "    Cycles = CycleList\n",
    "    return Cycles, Adjacency\n",
    "\n",
    "def zerout(CurrentPath, Adjacency):\n",
    "    NewAdjacency = Adjacency\n",
    "    temp = CurrentPath.copy()\n",
    "    del temp[0]\n",
    "    del temp[0]\n",
    "    del temp[-1]\n",
    "    del temp[-1]\n",
    "    GraphSize = max(Adjacency.shape)\n",
    "    Z = np.zeros([1, GraphSize])\n",
    "    Z1 = np.zeros([GraphSize,1])\n",
    "    for i in range(len(temp)):\n",
    "        NewAdjacency[temp[i],:] = 0\n",
    "        NewAdjacency[:,temp[i]] = 0\n",
    "    return NewAdjacency\n",
    "       "
   ]
  },
  {
   "cell_type": "markdown",
   "metadata": {
    "inputHidden": false,
    "outputHidden": false
   },
   "source": [
    "# Testing with chabazite"
   ]
  },
  {
   "cell_type": "code",
   "execution_count": 29,
   "metadata": {
    "inputHidden": false,
    "outputHidden": false
   },
   "outputs": [],
   "source": [
    "from ase.io import read, write\n",
    "from ase import neighborlist\n",
    "atoms = read('CHA.cif')\n",
    "atoms = atoms.repeat([2,2,2])"
   ]
  },
  {
   "cell_type": "code",
   "execution_count": 30,
   "metadata": {
    "inputHidden": false,
    "outputHidden": false
   },
   "outputs": [],
   "source": [
    "cuttoff = neighborlist.natural_cutoffs(atoms)\n",
    "neighborList = neighborlist.NeighborList(cutoffs=cuttoff, self_interaction=False, bothways=True)\n",
    "neighborList.update(atoms)\n",
    "matrix = neighborList.get_connectivity_matrix(sparse=False)"
   ]
  },
  {
   "cell_type": "code",
   "execution_count": 34,
   "metadata": {},
   "outputs": [
    {
     "name": "stdout",
     "output_type": "stream",
     "text": [
      "[8, 8, 4]\n"
     ]
    }
   ],
   "source": [
    "m = matrix.copy()\n",
    "source = 19\n",
    "Class = []\n",
    "pr = [4,6,8]\n",
    "for i in pr:\n",
    "    ring,m = zeoc(m,source,i*2+1)\n",
    "    if ring:\n",
    "        for i in ring:\n",
    "            temp = i\n",
    "            Class.append(int((len(temp)-1)/2))\n",
    "Class.sort(reverse=True)\n",
    "print(Class)"
   ]
  },
  {
   "cell_type": "markdown",
   "metadata": {},
   "source": [
    "# Testing with MFI\n",
    "Testing with Oxygen 2 and 120. I'm not certain yet if the oxygens in MFI can associate with more than 3 rings, but it seems possible. \n",
    "\n",
    "Oxygen 2 should be 10,6,5.\n",
    "\n",
    "Visual inspection suggests Oxygen 120 should be a 6,6,5, but maybe also in a 10-MR.\n",
    "\n",
    "When using this tool on an oxygen in a 10-MR, the tool goes very slowly. "
   ]
  },
  {
   "cell_type": "code",
   "execution_count": 58,
   "metadata": {},
   "outputs": [],
   "source": [
    "atoms = read('MFI.cif')\n",
    "atoms = atoms.repeat([1,1,2])"
   ]
  },
  {
   "cell_type": "code",
   "execution_count": 59,
   "metadata": {},
   "outputs": [],
   "source": [
    "cuttoff = neighborlist.natural_cutoffs(atoms)\n",
    "neighborList = neighborlist.NeighborList(cutoffs=cuttoff, self_interaction=False, bothways=True)\n",
    "neighborList.update(atoms)\n",
    "matrix = neighborList.get_connectivity_matrix(sparse=False)"
   ]
  },
  {
   "cell_type": "code",
   "execution_count": 60,
   "metadata": {},
   "outputs": [
    {
     "name": "stdout",
     "output_type": "stream",
     "text": [
      "[10, 6, 5]\n"
     ]
    }
   ],
   "source": [
    "m = matrix.copy()\n",
    "source = 2\n",
    "Class = []\n",
    "pr = [4,5,6,10]\n",
    "for i in pr:\n",
    "    ring,m = zeoc(m,source,i*2+1)\n",
    "    if ring:\n",
    "        for i in ring:\n",
    "            temp = i\n",
    "            Class.append(int((len(temp)-1)/2))\n",
    "    if len(Class) == 3:\n",
    "        break\n",
    "Class.sort(reverse=True)\n",
    "print(Class)"
   ]
  },
  {
   "cell_type": "code",
   "execution_count": 65,
   "metadata": {},
   "outputs": [
    {
     "name": "stdout",
     "output_type": "stream",
     "text": [
      "[6, 6, 5]\n"
     ]
    }
   ],
   "source": [
    "m = matrix.copy()\n",
    "source = 120\n",
    "Class = []\n",
    "pr = [4,5,6,10]\n",
    "for i in pr:\n",
    "    ring,m = zeoc(m,source,i*2+1)\n",
    "    if ring:\n",
    "        for i in ring:\n",
    "            temp = i\n",
    "            Class.append(int((len(temp)-1)/2))\n",
    "    if len(Class) == 3:\n",
    "        break\n",
    "Class.sort(reverse=True)\n",
    "print(Class)"
   ]
  },
  {
   "cell_type": "code",
   "execution_count": null,
   "metadata": {},
   "outputs": [],
   "source": []
  },
  {
   "cell_type": "code",
   "execution_count": null,
   "metadata": {},
   "outputs": [],
   "source": []
  }
 ],
 "metadata": {
  "kernel_info": {
   "name": "python3"
  },
  "kernelspec": {
   "display_name": "Python 3",
   "language": "python",
   "name": "python3"
  },
  "language_info": {
   "codemirror_mode": {
    "name": "ipython",
    "version": 3
   },
   "file_extension": ".py",
   "mimetype": "text/x-python",
   "name": "python",
   "nbconvert_exporter": "python",
   "pygments_lexer": "ipython3",
   "version": "3.7.3"
  },
  "nteract": {
   "version": "0.12.3"
  }
 },
 "nbformat": 4,
 "nbformat_minor": 4
}
