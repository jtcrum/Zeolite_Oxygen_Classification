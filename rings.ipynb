{
  "cells": [
    {
      "cell_type": "code",
      "source": [
        "import numpy as np"
      ],
      "outputs": [],
      "execution_count": 13,
      "metadata": {
        "collapsed": false,
        "outputHidden": false,
        "inputHidden": false
      }
    },
    {
      "cell_type": "code",
      "source": [
        "def zerout(CurrentPath, Adjacency):\n",
        "    NewAdjacency = Adjacency\n",
        "    CurrentPath[0] = []\n",
        "    CurrentPath[0] = []\n",
        "    CurrentPath[-1] = []\n",
        "    CurrentPath[-1] = []\n",
        "    GraphSize = max(size(Adjacency))\n",
        "    Z = np.zeros([GraphSize, 1])\n",
        "    for i in range(len(CurrentPath)):\n",
        "        NewAdjacency[CurrentPath[i],:] = Z\n",
        "        NewAdjacency[:,CurrentPath[i]] = Z\n",
        "    return NewAdjacency\n",
        "\n\n",
        "def zeoc(Adjacency, Source, LengthOfCycle, CurrentPath=0, UsedNodes=0,  iteration=0, CurrentVertex=0):\n",
        "    global CycleList\n",
        "    if iteration == 0:\n",
        "        CurrentVertex = Source\n",
        "        UsedNodes = Source\n",
        "        CurrentPath = Source\n",
        "        iteration += iteration\n",
        "        zeoc(Adjacency, Source, CurrentPath, LengthOfCycle, UsedNodes, iteration, CurrentVertex)\n",
        "    else:\n",
        "        if iteration == 1:\n",
        "            UsedNodes[0] = []\n",
        "        iteration += 1\n",
        "        if len(CurrentPath) == LengthOfCycle and CurentPath[-1] == Source:\n",
        "            CycleList.append(CurrentPath)\n",
        "            Cycle = CurrentPath\n",
        "            Adjacency = ZeroOut(CurrentPath, Adjacency)\n",
        "        elif lenth(CurrentPath) < LengthOfCycle:\n",
        "          #  CurrentNeighbors = find(Adjacency[CurrentVertex,:]) # need to fix this line\n",
        "            for i in range(len(CurrentNeighbors)):\n",
        "                Used = false\n",
        "                CurrentVertex = CurrentNeighbors[i]\n",
        "                for j in range(len(UsedNodes)):\n",
        "                    if CurrentNeighbors[i] == UsedNodes[j]:\n",
        "                        Used = true\n",
        "                if not Used:\n",
        "                    CurrentPath.append(CurrentVertex)\n",
        "                    UsedNodes.append(CurrentVertex)\n",
        "                    NodeIndex = len(UsedNodes)\n",
        "                    Cycles, Adjacency = zeoc(Adjacency, Source, LengthOfCycle, CurrentPath, UsedNodes, iteration, CurrentVertex)\n",
        "                    UsedNodes[NodeIndex] = []\n",
        "                    CurrentPath[-1] = []\n",
        "            mmm = 0\n",
        "        else:\n",
        "            UsedNodes[-1] = []\n",
        "            CurrentPath[-1] = []\n",
        "    Cycles = CycleList\n",
        "    return Cycles, Adjacency\n",
        "\n",
        "            \n",
        "            \n",
        "       "
      ],
      "outputs": [],
      "execution_count": 14,
      "metadata": {
        "collapsed": false,
        "outputHidden": false,
        "inputHidden": false
      }
    },
    {
      "cell_type": "code",
      "source": [
        "m = np.loadtxt('largecell.csv')\n",
        "source = 45\n",
        "ring, m = zeoc(m, source, 9)"
      ],
      "outputs": [
        {
          "output_type": "error",
          "ename": "FileNotFoundError",
          "evalue": "[Errno 2] No such file or directory: 'largecell.csv'",
          "traceback": [
            "\u001b[0;31m---------------------------------------------------------------------------\u001b[0m",
            "\u001b[0;31mFileNotFoundError\u001b[0m                         Traceback (most recent call last)",
            "\u001b[0;32m<ipython-input-18-365ec47d6874>\u001b[0m in \u001b[0;36m<module>\u001b[0;34m()\u001b[0m\n\u001b[0;32m----> 1\u001b[0;31m \u001b[0mm\u001b[0m \u001b[0;34m=\u001b[0m \u001b[0mnp\u001b[0m\u001b[0;34m.\u001b[0m\u001b[0mloadtxt\u001b[0m\u001b[0;34m(\u001b[0m\u001b[0;34m'largecell.csv'\u001b[0m\u001b[0;34m)\u001b[0m\u001b[0;34m\u001b[0m\u001b[0m\n\u001b[0m\u001b[1;32m      2\u001b[0m \u001b[0msource\u001b[0m \u001b[0;34m=\u001b[0m \u001b[0;36m45\u001b[0m\u001b[0;34m\u001b[0m\u001b[0m\n\u001b[1;32m      3\u001b[0m \u001b[0mring\u001b[0m\u001b[0;34m,\u001b[0m \u001b[0mm\u001b[0m \u001b[0;34m=\u001b[0m \u001b[0mzeoc\u001b[0m\u001b[0;34m(\u001b[0m\u001b[0mm\u001b[0m\u001b[0;34m,\u001b[0m \u001b[0msource\u001b[0m\u001b[0;34m,\u001b[0m \u001b[0;36m9\u001b[0m\u001b[0;34m)\u001b[0m\u001b[0;34m\u001b[0m\u001b[0m\n",
            "\u001b[0;32m~/anaconda3/lib/python3.6/site-packages/numpy/lib/npyio.py\u001b[0m in \u001b[0;36mloadtxt\u001b[0;34m(fname, dtype, comments, delimiter, converters, skiprows, usecols, unpack, ndmin)\u001b[0m\n\u001b[1;32m    896\u001b[0m                 \u001b[0mfh\u001b[0m \u001b[0;34m=\u001b[0m \u001b[0miter\u001b[0m\u001b[0;34m(\u001b[0m\u001b[0mopen\u001b[0m\u001b[0;34m(\u001b[0m\u001b[0mfname\u001b[0m\u001b[0;34m,\u001b[0m \u001b[0;34m'U'\u001b[0m\u001b[0;34m)\u001b[0m\u001b[0;34m)\u001b[0m\u001b[0;34m\u001b[0m\u001b[0m\n\u001b[1;32m    897\u001b[0m             \u001b[0;32melse\u001b[0m\u001b[0;34m:\u001b[0m\u001b[0;34m\u001b[0m\u001b[0m\n\u001b[0;32m--> 898\u001b[0;31m                 \u001b[0mfh\u001b[0m \u001b[0;34m=\u001b[0m \u001b[0miter\u001b[0m\u001b[0;34m(\u001b[0m\u001b[0mopen\u001b[0m\u001b[0;34m(\u001b[0m\u001b[0mfname\u001b[0m\u001b[0;34m)\u001b[0m\u001b[0;34m)\u001b[0m\u001b[0;34m\u001b[0m\u001b[0m\n\u001b[0m\u001b[1;32m    899\u001b[0m         \u001b[0;32melse\u001b[0m\u001b[0;34m:\u001b[0m\u001b[0;34m\u001b[0m\u001b[0m\n\u001b[1;32m    900\u001b[0m             \u001b[0mfh\u001b[0m \u001b[0;34m=\u001b[0m \u001b[0miter\u001b[0m\u001b[0;34m(\u001b[0m\u001b[0mfname\u001b[0m\u001b[0;34m)\u001b[0m\u001b[0;34m\u001b[0m\u001b[0m\n",
            "\u001b[0;31mFileNotFoundError\u001b[0m: [Errno 2] No such file or directory: 'largecell.csv'"
          ]
        }
      ],
      "execution_count": 18,
      "metadata": {
        "collapsed": false,
        "outputHidden": false,
        "inputHidden": false
      }
    },
    {
      "cell_type": "code",
      "source": [],
      "outputs": [],
      "execution_count": 12,
      "metadata": {
        "collapsed": false,
        "outputHidden": false,
        "inputHidden": false
      }
    },
    {
      "cell_type": "code",
      "source": [],
      "outputs": [],
      "execution_count": null,
      "metadata": {
        "collapsed": false,
        "outputHidden": false,
        "inputHidden": false
      }
    }
  ],
  "metadata": {
    "kernel_info": {
      "name": "python3"
    },
    "language_info": {
      "name": "python",
      "version": "3.6.3",
      "mimetype": "text/x-python",
      "codemirror_mode": {
        "name": "ipython",
        "version": 3
      },
      "pygments_lexer": "ipython3",
      "nbconvert_exporter": "python",
      "file_extension": ".py"
    },
    "kernelspec": {
      "name": "python3",
      "language": "python",
      "display_name": "Python 3"
    },
    "nteract": {
      "version": "0.12.3"
    }
  },
  "nbformat": 4,
  "nbformat_minor": 4
}